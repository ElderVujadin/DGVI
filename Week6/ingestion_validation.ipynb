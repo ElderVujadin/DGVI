{
 "cells": [
  {
   "cell_type": "code",
   "execution_count": 8,
   "id": "72b2d478",
   "metadata": {},
   "outputs": [],
   "source": [
    "import time\n",
    "import os\n",
    "import numpy as np\n",
    "import pandas as pd\n",
    "from dask import dataframe as dd\n",
    "import datatable as dt\n",
    "import datetime\n",
    "import csv\n",
    "import gzip"
   ]
  },
  {
   "cell_type": "markdown",
   "id": "2ac5089b",
   "metadata": {},
   "source": [
    "**We use the New York taxi fare prediction dataset downloaded from kaggle which is about 5.7 GB in size (https://www.kaggle.com/competitions/new-york-city-taxi-fare-prediction/data?select=train.csv).**"
   ]
  },
  {
   "cell_type": "markdown",
   "id": "7df663b2",
   "metadata": {},
   "source": [
    "### 1. Comparing different packages for reading in the data"
   ]
  },
  {
   "cell_type": "markdown",
   "id": "41056104",
   "metadata": {},
   "source": [
    "#### 1.1 Pandas "
   ]
  },
  {
   "cell_type": "code",
   "execution_count": 12,
   "id": "7c7e011e",
   "metadata": {},
   "outputs": [
    {
     "name": "stdout",
     "output_type": "stream",
     "text": [
      "Time necessary for reading in the data is 104.140306 s.\n"
     ]
    }
   ],
   "source": [
    "tic = time.time() #Start time\n",
    "\n",
    "df = pd.read_csv(\"train.csv\") #Read in the data\n",
    "\n",
    "toc = time.time() #End time\n",
    "\n",
    "print(f\"Time necessary for reading in the data is {toc-tic:3f} s.\")"
   ]
  },
  {
   "cell_type": "markdown",
   "id": "8010571d",
   "metadata": {},
   "source": [
    "#### 1.2 Dask"
   ]
  },
  {
   "cell_type": "code",
   "execution_count": 11,
   "id": "c504de7f",
   "metadata": {},
   "outputs": [
    {
     "name": "stdout",
     "output_type": "stream",
     "text": [
      "Time necessary for reading in the data is 2.447 s.\n"
     ]
    }
   ],
   "source": [
    "tic = time.time() #Start time\n",
    "\n",
    "df = dd.read_csv(\"train.csv\") #Read in the data\n",
    "\n",
    "toc = time.time() #End time\n",
    "\n",
    "print(f\"Time necessary for reading in the data is {toc-tic:.3f} s.\")"
   ]
  },
  {
   "cell_type": "markdown",
   "id": "ee849b6e",
   "metadata": {},
   "source": [
    "#### 1.3 Datatable"
   ]
  },
  {
   "cell_type": "code",
   "execution_count": 4,
   "id": "a90c09fb",
   "metadata": {},
   "outputs": [
    {
     "name": "stdout",
     "output_type": "stream",
     "text": [
      "Time necessary for reading in the data is 7.102851 s.\n"
     ]
    }
   ],
   "source": [
    "tic = time.time() #Start time\n",
    "\n",
    "df = dt.fread(\"train.csv\") #Read in the data\n",
    "\n",
    "toc = time.time() #End time\n",
    "\n",
    "print(f\"Time necessary for reading in the data is {toc-tic:3f} s.\")"
   ]
  },
  {
   "cell_type": "markdown",
   "id": "22ec1953",
   "metadata": {},
   "source": [
    "**We choose Dask as the fastest**"
   ]
  },
  {
   "cell_type": "markdown",
   "id": "abbb09c8",
   "metadata": {},
   "source": [
    "### 2. Creating the util file"
   ]
  },
  {
   "cell_type": "code",
   "execution_count": 2,
   "id": "aa9fbe83",
   "metadata": {},
   "outputs": [
    {
     "name": "stdout",
     "output_type": "stream",
     "text": [
      "Overwriting testutility.py\n"
     ]
    }
   ],
   "source": [
    "%%writefile testutility.py\n",
    "import logging\n",
    "import os\n",
    "import subprocess\n",
    "import yaml\n",
    "import pandas as pd\n",
    "import datetime \n",
    "import gc\n",
    "import re\n",
    "\n",
    "\n",
    "################\n",
    "# File Reading #\n",
    "################\n",
    "\n",
    "def read_config_file(filepath):\n",
    "    with open(filepath, 'r') as stream:\n",
    "        try:\n",
    "            return yaml.safe_load(stream)\n",
    "        except yaml.YAMLError as exc:\n",
    "            logging.error(exc)\n",
    "\n",
    "\n",
    "def replacer(string, char):\n",
    "    pattern = char + '{2,}'\n",
    "    string = re.sub(pattern, char, string) \n",
    "    return string\n",
    "\n",
    "def col_header_val(df,table_config):\n",
    "    '''\n",
    "    replace whitespaces in the column\n",
    "    and standardized column names\n",
    "    '''\n",
    "    df.columns = df.columns.str.lower()\n",
    "    df.columns = df.columns.str.replace('[^\\w]','_',regex=True)\n",
    "    df.columns = list(map(lambda x: x.strip('_'), list(df.columns)))\n",
    "    df.columns = list(map(lambda x: replacer(x,'_'), list(df.columns)))\n",
    "    expected_col = list(map(lambda x: x.lower(),  table_config['columns']))\n",
    "    expected_col.sort()\n",
    "    df.columns =list(map(lambda x: x.lower(), list(df.columns)))\n",
    "    \n",
    "    if len(df.columns) == len(expected_col) and list(sorted(expected_col))  == list(sorted(df.columns)):\n",
    "        print(\"column name and column length validation passed\")\n",
    "        return 1\n",
    "    else:\n",
    "        print(\"column name and column length validation failed\")\n",
    "        mismatched_columns_file = list(set(df.columns).difference(expected_col))\n",
    "        print(\"Following File columns are not in the YAML file\",mismatched_columns_file)\n",
    "        missing_YAML_file = list(set(expected_col).difference(df.columns))\n",
    "        print(\"Following YAML columns are not in the file uploaded\",missing_YAML_file)\n",
    "        logging.info(f'df columns: {df.columns}')\n",
    "        logging.info(f'expected columns: {expected_col}')\n",
    "        return 0"
   ]
  },
  {
   "cell_type": "markdown",
   "id": "684a3c60",
   "metadata": {},
   "source": [
    "### 3. Creating the YAML file"
   ]
  },
  {
   "cell_type": "code",
   "execution_count": 3,
   "id": "1feca1d8",
   "metadata": {},
   "outputs": [
    {
     "name": "stdout",
     "output_type": "stream",
     "text": [
      "Overwriting fare.yaml\n"
     ]
    }
   ],
   "source": [
    "%%writefile fare.yaml\n",
    "file_type: csv\n",
    "dataset_name: taxi_fare\n",
    "file_name: train\n",
    "table_name: taxi_fare\n",
    "inbound_delimiter: \",\"\n",
    "outbound_delimiter: \"|\"\n",
    "skip_leading_rows: 1\n",
    "columns: \n",
    "    - key\n",
    "    - pickup_datetime\n",
    "    - pickup_longitude\n",
    "    - pickup_latitude\n",
    "    - dropoff_longitude\n",
    "    - dropoff_latitude\n",
    "    - passenger_count\n",
    "    - fare_amount"
   ]
  },
  {
   "cell_type": "markdown",
   "id": "338a8da8",
   "metadata": {},
   "source": [
    "### 4. Validation"
   ]
  },
  {
   "cell_type": "code",
   "execution_count": 4,
   "id": "dc325917",
   "metadata": {},
   "outputs": [],
   "source": [
    "import testutility as util\n",
    "config_data = util.read_config_file(\"fare.yaml\")"
   ]
  },
  {
   "cell_type": "code",
   "execution_count": 5,
   "id": "6d94665a",
   "metadata": {},
   "outputs": [
    {
     "data": {
      "text/plain": [
       "{'file_type': 'csv',\n",
       " 'dataset_name': 'taxi_fare',\n",
       " 'file_name': 'train',\n",
       " 'table_name': 'taxi_fare',\n",
       " 'inbound_delimiter': ',',\n",
       " 'outbound_delimiter': '|',\n",
       " 'skip_leading_rows': 1,\n",
       " 'columns': ['key',\n",
       "  'pickup_datetime',\n",
       "  'pickup_longitude',\n",
       "  'pickup_latitude',\n",
       "  'dropoff_longitude',\n",
       "  'dropoff_latitude',\n",
       "  'passenger_count',\n",
       "  'fare_amount']}"
      ]
     },
     "execution_count": 5,
     "metadata": {},
     "output_type": "execute_result"
    }
   ],
   "source": [
    "config_data"
   ]
  },
  {
   "cell_type": "code",
   "execution_count": 6,
   "id": "924e3aa3",
   "metadata": {},
   "outputs": [
    {
     "data": {
      "text/html": [
       "<div>\n",
       "<style scoped>\n",
       "    .dataframe tbody tr th:only-of-type {\n",
       "        vertical-align: middle;\n",
       "    }\n",
       "\n",
       "    .dataframe tbody tr th {\n",
       "        vertical-align: top;\n",
       "    }\n",
       "\n",
       "    .dataframe thead th {\n",
       "        text-align: right;\n",
       "    }\n",
       "</style>\n",
       "<table border=\"1\" class=\"dataframe\">\n",
       "  <thead>\n",
       "    <tr style=\"text-align: right;\">\n",
       "      <th></th>\n",
       "      <th>key</th>\n",
       "      <th>fare_amount</th>\n",
       "      <th>pickup_datetime</th>\n",
       "      <th>pickup_longitude</th>\n",
       "      <th>pickup_latitude</th>\n",
       "      <th>dropoff_longitude</th>\n",
       "      <th>dropoff_latitude</th>\n",
       "      <th>passenger_count</th>\n",
       "    </tr>\n",
       "  </thead>\n",
       "  <tbody>\n",
       "    <tr>\n",
       "      <th>0</th>\n",
       "      <td>2009-06-15 17:26:21.0000001</td>\n",
       "      <td>4.5</td>\n",
       "      <td>2009-06-15 17:26:21 UTC</td>\n",
       "      <td>-73.844311</td>\n",
       "      <td>40.721319</td>\n",
       "      <td>-73.841610</td>\n",
       "      <td>40.712278</td>\n",
       "      <td>1</td>\n",
       "    </tr>\n",
       "    <tr>\n",
       "      <th>1</th>\n",
       "      <td>2010-01-05 16:52:16.0000002</td>\n",
       "      <td>16.9</td>\n",
       "      <td>2010-01-05 16:52:16 UTC</td>\n",
       "      <td>-74.016048</td>\n",
       "      <td>40.711303</td>\n",
       "      <td>-73.979268</td>\n",
       "      <td>40.782004</td>\n",
       "      <td>1</td>\n",
       "    </tr>\n",
       "    <tr>\n",
       "      <th>2</th>\n",
       "      <td>2011-08-18 00:35:00.00000049</td>\n",
       "      <td>5.7</td>\n",
       "      <td>2011-08-18 00:35:00 UTC</td>\n",
       "      <td>-73.982738</td>\n",
       "      <td>40.761270</td>\n",
       "      <td>-73.991242</td>\n",
       "      <td>40.750562</td>\n",
       "      <td>2</td>\n",
       "    </tr>\n",
       "    <tr>\n",
       "      <th>3</th>\n",
       "      <td>2012-04-21 04:30:42.0000001</td>\n",
       "      <td>7.7</td>\n",
       "      <td>2012-04-21 04:30:42 UTC</td>\n",
       "      <td>-73.987130</td>\n",
       "      <td>40.733143</td>\n",
       "      <td>-73.991567</td>\n",
       "      <td>40.758092</td>\n",
       "      <td>1</td>\n",
       "    </tr>\n",
       "    <tr>\n",
       "      <th>4</th>\n",
       "      <td>2010-03-09 07:51:00.000000135</td>\n",
       "      <td>5.3</td>\n",
       "      <td>2010-03-09 07:51:00 UTC</td>\n",
       "      <td>-73.968095</td>\n",
       "      <td>40.768008</td>\n",
       "      <td>-73.956655</td>\n",
       "      <td>40.783762</td>\n",
       "      <td>1</td>\n",
       "    </tr>\n",
       "  </tbody>\n",
       "</table>\n",
       "</div>"
      ],
      "text/plain": [
       "                             key  fare_amount          pickup_datetime  \\\n",
       "0    2009-06-15 17:26:21.0000001          4.5  2009-06-15 17:26:21 UTC   \n",
       "1    2010-01-05 16:52:16.0000002         16.9  2010-01-05 16:52:16 UTC   \n",
       "2   2011-08-18 00:35:00.00000049          5.7  2011-08-18 00:35:00 UTC   \n",
       "3    2012-04-21 04:30:42.0000001          7.7  2012-04-21 04:30:42 UTC   \n",
       "4  2010-03-09 07:51:00.000000135          5.3  2010-03-09 07:51:00 UTC   \n",
       "\n",
       "   pickup_longitude  pickup_latitude  dropoff_longitude  dropoff_latitude  \\\n",
       "0        -73.844311        40.721319         -73.841610         40.712278   \n",
       "1        -74.016048        40.711303         -73.979268         40.782004   \n",
       "2        -73.982738        40.761270         -73.991242         40.750562   \n",
       "3        -73.987130        40.733143         -73.991567         40.758092   \n",
       "4        -73.968095        40.768008         -73.956655         40.783762   \n",
       "\n",
       "   passenger_count  \n",
       "0                1  \n",
       "1                1  \n",
       "2                2  \n",
       "3                1  \n",
       "4                1  "
      ]
     },
     "execution_count": 6,
     "metadata": {},
     "output_type": "execute_result"
    }
   ],
   "source": [
    "#Read in the file using dask and config_data\n",
    "file_type = config_data['file_type']\n",
    "source_file = config_data['file_name'] + f'.{file_type}'\n",
    "df = dd.read_csv(source_file,sep=config_data['inbound_delimiter'])\n",
    "df.head()"
   ]
  },
  {
   "cell_type": "code",
   "execution_count": 7,
   "id": "1d4b4675",
   "metadata": {},
   "outputs": [
    {
     "name": "stdout",
     "output_type": "stream",
     "text": [
      "column name and column length validation passed\n"
     ]
    },
    {
     "data": {
      "text/plain": [
       "1"
      ]
     },
     "execution_count": 7,
     "metadata": {},
     "output_type": "execute_result"
    }
   ],
   "source": [
    "#Now we validadate\n",
    "util.col_header_val(df,config_data)"
   ]
  },
  {
   "cell_type": "markdown",
   "id": "ad71f1ab",
   "metadata": {},
   "source": [
    "### 5. Create a gzip file"
   ]
  },
  {
   "cell_type": "code",
   "execution_count": 10,
   "id": "939f4f19",
   "metadata": {},
   "outputs": [
    {
     "data": {
      "text/plain": [
       "['C:\\\\Users\\\\tsnik\\\\DGInternship\\\\Nikola\\\\Week6\\\\train.csv.gz\\\\00.part',\n",
       " 'C:\\\\Users\\\\tsnik\\\\DGInternship\\\\Nikola\\\\Week6\\\\train.csv.gz\\\\01.part',\n",
       " 'C:\\\\Users\\\\tsnik\\\\DGInternship\\\\Nikola\\\\Week6\\\\train.csv.gz\\\\02.part',\n",
       " 'C:\\\\Users\\\\tsnik\\\\DGInternship\\\\Nikola\\\\Week6\\\\train.csv.gz\\\\03.part',\n",
       " 'C:\\\\Users\\\\tsnik\\\\DGInternship\\\\Nikola\\\\Week6\\\\train.csv.gz\\\\04.part',\n",
       " 'C:\\\\Users\\\\tsnik\\\\DGInternship\\\\Nikola\\\\Week6\\\\train.csv.gz\\\\05.part',\n",
       " 'C:\\\\Users\\\\tsnik\\\\DGInternship\\\\Nikola\\\\Week6\\\\train.csv.gz\\\\06.part',\n",
       " 'C:\\\\Users\\\\tsnik\\\\DGInternship\\\\Nikola\\\\Week6\\\\train.csv.gz\\\\07.part',\n",
       " 'C:\\\\Users\\\\tsnik\\\\DGInternship\\\\Nikola\\\\Week6\\\\train.csv.gz\\\\08.part',\n",
       " 'C:\\\\Users\\\\tsnik\\\\DGInternship\\\\Nikola\\\\Week6\\\\train.csv.gz\\\\09.part',\n",
       " 'C:\\\\Users\\\\tsnik\\\\DGInternship\\\\Nikola\\\\Week6\\\\train.csv.gz\\\\10.part',\n",
       " 'C:\\\\Users\\\\tsnik\\\\DGInternship\\\\Nikola\\\\Week6\\\\train.csv.gz\\\\11.part',\n",
       " 'C:\\\\Users\\\\tsnik\\\\DGInternship\\\\Nikola\\\\Week6\\\\train.csv.gz\\\\12.part',\n",
       " 'C:\\\\Users\\\\tsnik\\\\DGInternship\\\\Nikola\\\\Week6\\\\train.csv.gz\\\\13.part',\n",
       " 'C:\\\\Users\\\\tsnik\\\\DGInternship\\\\Nikola\\\\Week6\\\\train.csv.gz\\\\14.part',\n",
       " 'C:\\\\Users\\\\tsnik\\\\DGInternship\\\\Nikola\\\\Week6\\\\train.csv.gz\\\\15.part',\n",
       " 'C:\\\\Users\\\\tsnik\\\\DGInternship\\\\Nikola\\\\Week6\\\\train.csv.gz\\\\16.part',\n",
       " 'C:\\\\Users\\\\tsnik\\\\DGInternship\\\\Nikola\\\\Week6\\\\train.csv.gz\\\\17.part',\n",
       " 'C:\\\\Users\\\\tsnik\\\\DGInternship\\\\Nikola\\\\Week6\\\\train.csv.gz\\\\18.part',\n",
       " 'C:\\\\Users\\\\tsnik\\\\DGInternship\\\\Nikola\\\\Week6\\\\train.csv.gz\\\\19.part',\n",
       " 'C:\\\\Users\\\\tsnik\\\\DGInternship\\\\Nikola\\\\Week6\\\\train.csv.gz\\\\20.part',\n",
       " 'C:\\\\Users\\\\tsnik\\\\DGInternship\\\\Nikola\\\\Week6\\\\train.csv.gz\\\\21.part',\n",
       " 'C:\\\\Users\\\\tsnik\\\\DGInternship\\\\Nikola\\\\Week6\\\\train.csv.gz\\\\22.part',\n",
       " 'C:\\\\Users\\\\tsnik\\\\DGInternship\\\\Nikola\\\\Week6\\\\train.csv.gz\\\\23.part',\n",
       " 'C:\\\\Users\\\\tsnik\\\\DGInternship\\\\Nikola\\\\Week6\\\\train.csv.gz\\\\24.part',\n",
       " 'C:\\\\Users\\\\tsnik\\\\DGInternship\\\\Nikola\\\\Week6\\\\train.csv.gz\\\\25.part',\n",
       " 'C:\\\\Users\\\\tsnik\\\\DGInternship\\\\Nikola\\\\Week6\\\\train.csv.gz\\\\26.part',\n",
       " 'C:\\\\Users\\\\tsnik\\\\DGInternship\\\\Nikola\\\\Week6\\\\train.csv.gz\\\\27.part',\n",
       " 'C:\\\\Users\\\\tsnik\\\\DGInternship\\\\Nikola\\\\Week6\\\\train.csv.gz\\\\28.part',\n",
       " 'C:\\\\Users\\\\tsnik\\\\DGInternship\\\\Nikola\\\\Week6\\\\train.csv.gz\\\\29.part',\n",
       " 'C:\\\\Users\\\\tsnik\\\\DGInternship\\\\Nikola\\\\Week6\\\\train.csv.gz\\\\30.part',\n",
       " 'C:\\\\Users\\\\tsnik\\\\DGInternship\\\\Nikola\\\\Week6\\\\train.csv.gz\\\\31.part',\n",
       " 'C:\\\\Users\\\\tsnik\\\\DGInternship\\\\Nikola\\\\Week6\\\\train.csv.gz\\\\32.part',\n",
       " 'C:\\\\Users\\\\tsnik\\\\DGInternship\\\\Nikola\\\\Week6\\\\train.csv.gz\\\\33.part',\n",
       " 'C:\\\\Users\\\\tsnik\\\\DGInternship\\\\Nikola\\\\Week6\\\\train.csv.gz\\\\34.part',\n",
       " 'C:\\\\Users\\\\tsnik\\\\DGInternship\\\\Nikola\\\\Week6\\\\train.csv.gz\\\\35.part',\n",
       " 'C:\\\\Users\\\\tsnik\\\\DGInternship\\\\Nikola\\\\Week6\\\\train.csv.gz\\\\36.part',\n",
       " 'C:\\\\Users\\\\tsnik\\\\DGInternship\\\\Nikola\\\\Week6\\\\train.csv.gz\\\\37.part',\n",
       " 'C:\\\\Users\\\\tsnik\\\\DGInternship\\\\Nikola\\\\Week6\\\\train.csv.gz\\\\38.part',\n",
       " 'C:\\\\Users\\\\tsnik\\\\DGInternship\\\\Nikola\\\\Week6\\\\train.csv.gz\\\\39.part',\n",
       " 'C:\\\\Users\\\\tsnik\\\\DGInternship\\\\Nikola\\\\Week6\\\\train.csv.gz\\\\40.part',\n",
       " 'C:\\\\Users\\\\tsnik\\\\DGInternship\\\\Nikola\\\\Week6\\\\train.csv.gz\\\\41.part',\n",
       " 'C:\\\\Users\\\\tsnik\\\\DGInternship\\\\Nikola\\\\Week6\\\\train.csv.gz\\\\42.part',\n",
       " 'C:\\\\Users\\\\tsnik\\\\DGInternship\\\\Nikola\\\\Week6\\\\train.csv.gz\\\\43.part',\n",
       " 'C:\\\\Users\\\\tsnik\\\\DGInternship\\\\Nikola\\\\Week6\\\\train.csv.gz\\\\44.part',\n",
       " 'C:\\\\Users\\\\tsnik\\\\DGInternship\\\\Nikola\\\\Week6\\\\train.csv.gz\\\\45.part',\n",
       " 'C:\\\\Users\\\\tsnik\\\\DGInternship\\\\Nikola\\\\Week6\\\\train.csv.gz\\\\46.part',\n",
       " 'C:\\\\Users\\\\tsnik\\\\DGInternship\\\\Nikola\\\\Week6\\\\train.csv.gz\\\\47.part',\n",
       " 'C:\\\\Users\\\\tsnik\\\\DGInternship\\\\Nikola\\\\Week6\\\\train.csv.gz\\\\48.part',\n",
       " 'C:\\\\Users\\\\tsnik\\\\DGInternship\\\\Nikola\\\\Week6\\\\train.csv.gz\\\\49.part',\n",
       " 'C:\\\\Users\\\\tsnik\\\\DGInternship\\\\Nikola\\\\Week6\\\\train.csv.gz\\\\50.part',\n",
       " 'C:\\\\Users\\\\tsnik\\\\DGInternship\\\\Nikola\\\\Week6\\\\train.csv.gz\\\\51.part',\n",
       " 'C:\\\\Users\\\\tsnik\\\\DGInternship\\\\Nikola\\\\Week6\\\\train.csv.gz\\\\52.part',\n",
       " 'C:\\\\Users\\\\tsnik\\\\DGInternship\\\\Nikola\\\\Week6\\\\train.csv.gz\\\\53.part',\n",
       " 'C:\\\\Users\\\\tsnik\\\\DGInternship\\\\Nikola\\\\Week6\\\\train.csv.gz\\\\54.part',\n",
       " 'C:\\\\Users\\\\tsnik\\\\DGInternship\\\\Nikola\\\\Week6\\\\train.csv.gz\\\\55.part',\n",
       " 'C:\\\\Users\\\\tsnik\\\\DGInternship\\\\Nikola\\\\Week6\\\\train.csv.gz\\\\56.part',\n",
       " 'C:\\\\Users\\\\tsnik\\\\DGInternship\\\\Nikola\\\\Week6\\\\train.csv.gz\\\\57.part',\n",
       " 'C:\\\\Users\\\\tsnik\\\\DGInternship\\\\Nikola\\\\Week6\\\\train.csv.gz\\\\58.part',\n",
       " 'C:\\\\Users\\\\tsnik\\\\DGInternship\\\\Nikola\\\\Week6\\\\train.csv.gz\\\\59.part',\n",
       " 'C:\\\\Users\\\\tsnik\\\\DGInternship\\\\Nikola\\\\Week6\\\\train.csv.gz\\\\60.part',\n",
       " 'C:\\\\Users\\\\tsnik\\\\DGInternship\\\\Nikola\\\\Week6\\\\train.csv.gz\\\\61.part',\n",
       " 'C:\\\\Users\\\\tsnik\\\\DGInternship\\\\Nikola\\\\Week6\\\\train.csv.gz\\\\62.part',\n",
       " 'C:\\\\Users\\\\tsnik\\\\DGInternship\\\\Nikola\\\\Week6\\\\train.csv.gz\\\\63.part',\n",
       " 'C:\\\\Users\\\\tsnik\\\\DGInternship\\\\Nikola\\\\Week6\\\\train.csv.gz\\\\64.part',\n",
       " 'C:\\\\Users\\\\tsnik\\\\DGInternship\\\\Nikola\\\\Week6\\\\train.csv.gz\\\\65.part',\n",
       " 'C:\\\\Users\\\\tsnik\\\\DGInternship\\\\Nikola\\\\Week6\\\\train.csv.gz\\\\66.part',\n",
       " 'C:\\\\Users\\\\tsnik\\\\DGInternship\\\\Nikola\\\\Week6\\\\train.csv.gz\\\\67.part',\n",
       " 'C:\\\\Users\\\\tsnik\\\\DGInternship\\\\Nikola\\\\Week6\\\\train.csv.gz\\\\68.part',\n",
       " 'C:\\\\Users\\\\tsnik\\\\DGInternship\\\\Nikola\\\\Week6\\\\train.csv.gz\\\\69.part',\n",
       " 'C:\\\\Users\\\\tsnik\\\\DGInternship\\\\Nikola\\\\Week6\\\\train.csv.gz\\\\70.part',\n",
       " 'C:\\\\Users\\\\tsnik\\\\DGInternship\\\\Nikola\\\\Week6\\\\train.csv.gz\\\\71.part',\n",
       " 'C:\\\\Users\\\\tsnik\\\\DGInternship\\\\Nikola\\\\Week6\\\\train.csv.gz\\\\72.part',\n",
       " 'C:\\\\Users\\\\tsnik\\\\DGInternship\\\\Nikola\\\\Week6\\\\train.csv.gz\\\\73.part',\n",
       " 'C:\\\\Users\\\\tsnik\\\\DGInternship\\\\Nikola\\\\Week6\\\\train.csv.gz\\\\74.part',\n",
       " 'C:\\\\Users\\\\tsnik\\\\DGInternship\\\\Nikola\\\\Week6\\\\train.csv.gz\\\\75.part',\n",
       " 'C:\\\\Users\\\\tsnik\\\\DGInternship\\\\Nikola\\\\Week6\\\\train.csv.gz\\\\76.part',\n",
       " 'C:\\\\Users\\\\tsnik\\\\DGInternship\\\\Nikola\\\\Week6\\\\train.csv.gz\\\\77.part',\n",
       " 'C:\\\\Users\\\\tsnik\\\\DGInternship\\\\Nikola\\\\Week6\\\\train.csv.gz\\\\78.part',\n",
       " 'C:\\\\Users\\\\tsnik\\\\DGInternship\\\\Nikola\\\\Week6\\\\train.csv.gz\\\\79.part',\n",
       " 'C:\\\\Users\\\\tsnik\\\\DGInternship\\\\Nikola\\\\Week6\\\\train.csv.gz\\\\80.part',\n",
       " 'C:\\\\Users\\\\tsnik\\\\DGInternship\\\\Nikola\\\\Week6\\\\train.csv.gz\\\\81.part',\n",
       " 'C:\\\\Users\\\\tsnik\\\\DGInternship\\\\Nikola\\\\Week6\\\\train.csv.gz\\\\82.part',\n",
       " 'C:\\\\Users\\\\tsnik\\\\DGInternship\\\\Nikola\\\\Week6\\\\train.csv.gz\\\\83.part',\n",
       " 'C:\\\\Users\\\\tsnik\\\\DGInternship\\\\Nikola\\\\Week6\\\\train.csv.gz\\\\84.part',\n",
       " 'C:\\\\Users\\\\tsnik\\\\DGInternship\\\\Nikola\\\\Week6\\\\train.csv.gz\\\\85.part',\n",
       " 'C:\\\\Users\\\\tsnik\\\\DGInternship\\\\Nikola\\\\Week6\\\\train.csv.gz\\\\86.part',\n",
       " 'C:\\\\Users\\\\tsnik\\\\DGInternship\\\\Nikola\\\\Week6\\\\train.csv.gz\\\\87.part',\n",
       " 'C:\\\\Users\\\\tsnik\\\\DGInternship\\\\Nikola\\\\Week6\\\\train.csv.gz\\\\88.part']"
      ]
     },
     "execution_count": 10,
     "metadata": {},
     "output_type": "execute_result"
    }
   ],
   "source": [
    "df.to_csv('train.csv.gz',\n",
    "          sep='|',\n",
    "          header=True,\n",
    "          index=False,\n",
    "          quoting=csv.QUOTE_ALL,\n",
    "          compression='gzip',\n",
    "          quotechar='\"',\n",
    "          doublequote=True,\n",
    "          line_terminator='\\n')"
   ]
  },
  {
   "cell_type": "markdown",
   "id": "02a1369c",
   "metadata": {},
   "source": [
    "### 5. Create a summary file"
   ]
  },
  {
   "cell_type": "code",
   "execution_count": 26,
   "id": "39cc6bc7",
   "metadata": {},
   "outputs": [],
   "source": [
    "def get_dir_size(path='.'):\n",
    "    total = 0\n",
    "    with os.scandir(path) as it:\n",
    "        for entry in it:\n",
    "            if entry.is_file():\n",
    "                total += entry.stat().st_size\n",
    "            elif entry.is_dir():\n",
    "                total += get_dir_size(entry.path)\n",
    "    return total/(1024**3)"
   ]
  },
  {
   "cell_type": "code",
   "execution_count": 30,
   "id": "e4e05e9d",
   "metadata": {},
   "outputs": [],
   "source": [
    "no_rows = df.shape[0].compute()\n",
    "no_cols = df.shape[1]\n",
    "file_size = get_dir_size(\"train.csv.gz\")"
   ]
  },
  {
   "cell_type": "code",
   "execution_count": 39,
   "id": "aec31fc1",
   "metadata": {},
   "outputs": [],
   "source": [
    "with open(\"summary.txt\",\"w\") as summ:\n",
    "    summ.write(f\"rows: {no_rows}\\ncolumns: {no_cols}\\nsize (GB): {file_size}\")"
   ]
  }
 ],
 "metadata": {
  "kernelspec": {
   "display_name": "Python 3 (ipykernel)",
   "language": "python",
   "name": "python3"
  },
  "language_info": {
   "codemirror_mode": {
    "name": "ipython",
    "version": 3
   },
   "file_extension": ".py",
   "mimetype": "text/x-python",
   "name": "python",
   "nbconvert_exporter": "python",
   "pygments_lexer": "ipython3",
   "version": "3.9.12"
  }
 },
 "nbformat": 4,
 "nbformat_minor": 5
}
